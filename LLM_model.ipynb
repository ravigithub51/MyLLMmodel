{
  "nbformat": 4,
  "nbformat_minor": 0,
  "metadata": {
    "colab": {
      "provenance": []
    },
    "kernelspec": {
      "name": "python3",
      "display_name": "Python 3"
    },
    "language_info": {
      "name": "python"
    }
  },
  "cells": [
    {
      "cell_type": "code",
      "source": [
        "# Install required libraries\n",
        "!pip install --upgrade openai\n",
        "\n",
        "!pip install streamlit\n"
      ],
      "metadata": {
        "id": "J0bOSERjL_7E"
      },
      "execution_count": null,
      "outputs": []
    },
    {
      "cell_type": "code",
      "source": [
        "from openai import OpenAI\n",
        "import re\n",
        "import os\n",
        "import streamlit as st\n",
        "\n",
        "# OpenAI API key\n",
        "os.environ[\"OPENAI_API_KEY\"]= \"\"\n",
        "\n",
        "\n",
        "client = OpenAI()\n",
        "# Streamlit UI setup\n",
        "st.title(\"AI-Powered Q&A System\")\n",
        "st.write(\"Ask any question, and the AI will provide an answer!\")\n",
        "\n",
        "# User input\n",
        "question = st.text_input(\"Enter your question:\")\n",
        "\n",
        "if st.button(\"Get Answer\"):\n",
        "    if question:\n",
        "        try:\n",
        "            # Use OpenAI ChatCompletion for GPT-3.5-turbo or GPT-4\n",
        "            response = client.chat.completions.create(\n",
        "                model=\"gpt-3.5-turbo\",  # or 'gpt-4' if you have access\n",
        "                messages=[\n",
        "                    {\"role\": \"system\", \"content\": \"You are a helpful assistant.\"},\n",
        "                    {\"role\": \"user\", \"content\": question}\n",
        "                ],\n",
        "                temperature=0.7\n",
        "            )\n",
        "            answer = response['choices'][0]['message']['content'].strip()\n",
        "            st.write(f\"**Answer:** {answer}\")\n",
        "        except Exception as e:\n",
        "            st.error(f\"Error: {str(e)}\")\n",
        "    else:\n",
        "        st.warning(\"Please enter a question.\")\n"
      ],
      "metadata": {
        "id": "0FtYkDhAMCsw"
      },
      "execution_count": null,
      "outputs": []
    },
    {
      "cell_type": "code",
      "source": [
        "with open('app.py', 'w') as f:\n",
        "    f.write(_i)"
      ],
      "metadata": {
        "id": "uWvBuXFFNtsH"
      },
      "execution_count": 64,
      "outputs": []
    },
    {
      "cell_type": "code",
      "source": [
        "app_codeLLM='''from openai import OpenAI\n",
        "import re\n",
        "import os\n",
        "import streamlit as st\n",
        "\n",
        "# OpenAI API key\n",
        "os.environ[\"OPENAI_API_KEY\"]= \"\"\n",
        "\n",
        "\n",
        "client = OpenAI()\n",
        "# Streamlit UI setup\n",
        "st.title(\"AI-Powered Q&A System\")\n",
        "st.write(\"Ask any question, and the AI will provide an answer!\")\n",
        "\n",
        "# User input\n",
        "question = st.text_input(\"Enter your question:\")\n",
        "\n",
        "if st.button(\"Get Answer\"):\n",
        "    if question:\n",
        "        try:\n",
        "            # Use OpenAI ChatCompletion for GPT-3.5-turbo or GPT-4\n",
        "            response = client.chat.completions.create(\n",
        "                model=\"gpt-3.5-turbo\",  # or 'gpt-4' if you have access\n",
        "                messages=[\n",
        "                    {\"role\": \"system\", \"content\": \"You are a helpful assistant.\"},\n",
        "                    {\"role\": \"user\", \"content\": question}\n",
        "                ],\n",
        "                temperature=0.7\n",
        "            )\n",
        "            answer = response['choices'][0]['message']['content'].strip()\n",
        "            st.write(f\"**Answer:** {answer}\")\n",
        "        except Exception as e:\n",
        "            st.error(f\"Error: {str(e)}\")\n",
        "    else:\n",
        "        st.warning(\"Please enter a question.\")\n",
        "\n",
        "\n",
        "'''\n",
        "with open('app.py', 'w') as f:\n",
        "    f.write(app_codeLLM)"
      ],
      "metadata": {
        "id": "_B1k6sjeNV73"
      },
      "execution_count": 65,
      "outputs": []
    },
    {
      "cell_type": "code",
      "source": [
        "!streamlit run app.py & npx localtunnel --port 8501"
      ],
      "metadata": {
        "colab": {
          "base_uri": "https://localhost:8080/"
        },
        "id": "NwgNwBGAMIgn",
        "outputId": "df0840b8-8678-4b13-d50e-f22e67533d51"
      },
      "execution_count": 66,
      "outputs": [
        {
          "output_type": "stream",
          "name": "stdout",
          "text": [
            "\n",
            "Collecting usage statistics. To deactivate, set browser.gatherUsageStats to false.\n",
            "\u001b[0m\n",
            "\u001b[0m\n",
            "\u001b[34m\u001b[1m  You can now view your Streamlit app in your browser.\u001b[0m\n",
            "\u001b[0m\n",
            "\u001b[34m  Local URL: \u001b[0m\u001b[1mhttp://localhost:8501\u001b[0m\n",
            "\u001b[34m  Network URL: \u001b[0m\u001b[1mhttp://172.28.0.12:8501\u001b[0m\n",
            "\u001b[34m  External URL: \u001b[0m\u001b[1mhttp://104.196.127.178:8501\u001b[0m\n",
            "\u001b[0m\n",
            "your url is: https://famous-clubs-sniff.loca.lt\n",
            "\u001b[34m  Stopping...\u001b[0m\n",
            "^C\n"
          ]
        }
      ]
    }
  ]
}